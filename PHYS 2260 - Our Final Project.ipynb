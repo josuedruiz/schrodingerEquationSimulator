{
 "cells": [
  {
   "cell_type": "markdown",
   "id": "cc5c0973",
   "metadata": {},
   "source": [
    "# Solving the Full Schrödinger Equation: A Tribute to Quantum Mechanics"
   ]
  },
  {
   "cell_type": "markdown",
   "id": "b9580b90",
   "metadata": {},
   "source": [
    "### Authors: Ioannis Kalaitzidis, Edward Lopez, & Josue Ruiz (updated as of April 18 @ 7:31pm)"
   ]
  },
  {
   "cell_type": "markdown",
   "id": "5268ace0",
   "metadata": {},
   "source": [
    "a) In this first section, we are going to calculate the ground state energy of an electron in a square potential well with infinitely high walls separated by a distance $L$ equal to the Bohr radius $a_0 = 5.2918 \\times 10^{-11}m.$\n",
    "\n",
    "Using the secant method:"
   ]
  },
  {
   "cell_type": "code",
   "execution_count": 7,
   "id": "29d22bad",
   "metadata": {},
   "outputs": [
    {
     "name": "stdout",
     "output_type": "stream",
     "text": [
      "E (ground state) = 134.28637169369105 eV.\n"
     ]
    }
   ],
   "source": [
    "from numpy import array, arange, zeros\n",
    "\n",
    "# Constants\n",
    "m = 9.1094e-31     # Mass of electron [kg]\n",
    "hbar = 1.0546e-34  # Planck's constant over 2*pi [J*s]\n",
    "e = 1.6022e-19     # Electron charge [C]\n",
    "L = 5.2918e-11     # Bohr radius [m]\n",
    "N = 1000\n",
    "h = L/N\n",
    "\n",
    "# Potential function\n",
    "def V(x):\n",
    "    return 0.0\n",
    "\n",
    "# function to calculate TISE (time independent schrodinger equation)\n",
    "def f(r,x,E):\n",
    "    psi = r[0]\n",
    "    phi = r[1]\n",
    "    fpsi = phi\n",
    "    fphi = (2*m/hbar**2)*(V(x)-E)*psi\n",
    "    return array([fpsi,fphi],float)\n",
    "\n",
    "# Calculate the wavefunction for a particular energy using 4th Order Runge-Kutta Method\n",
    "def solve(E):\n",
    "    psi = 0.0\n",
    "    phi = 1.0\n",
    "    r = array([psi,phi],float)\n",
    "\n",
    "    for x in arange(0,L,h):\n",
    "        k1 = h*f(r,x,E)\n",
    "        k2 = h*f(r+0.5*k1,x+0.5*h,E)\n",
    "        k3 = h*f(r+0.5*k2,x+0.5*h,E)\n",
    "        k4 = h*f(r+k3,x+h,E)\n",
    "        r += (k1+2*k2+2*k3+k4)/6\n",
    "\n",
    "    return r[0]\n",
    "\n",
    "# Main program to find the energy using the secant method\n",
    "E1 = 0.0\n",
    "E2 = e\n",
    "psi2 = solve(E1)\n",
    "\n",
    "target = e/1000\n",
    "while abs(E1-E2)>target:\n",
    "    psi1,psi2 = psi2,solve(E2)\n",
    "    E1,E2 = E2,E2-psi2*(E2-E1)/(psi2-psi1)\n",
    "\n",
    "print(\"E (ground state) =\",E2/e,\"eV.\")"
   ]
  },
  {
   "cell_type": "markdown",
   "id": "0e38a614",
   "metadata": {},
   "source": [
    "b) For instance, suppose the potential inside the well is nonzero but varies as $V(x)=V_0\\frac{x}{L}(\\frac{x}{L}-1),$ where $V_0 = 260$ eV. It's straightforward to solve for the ground-state energy of this problem also. Just a matter of changing the function for $V(x)$, thus:"
   ]
  },
  {
   "cell_type": "code",
   "execution_count": 8,
   "id": "fff66369",
   "metadata": {},
   "outputs": [
    {
     "name": "stdout",
     "output_type": "stream",
     "text": [
      "E (ground state) = 77.69045100841701 eV.\n"
     ]
    }
   ],
   "source": [
    "from numpy import array, arange\n",
    "\n",
    "# Constants\n",
    "m = 9.1094e-31     # Mass of electron [kg]\n",
    "hbar = 1.0546e-34  # Planck's constant over 2*pi [J*s]\n",
    "e = 1.6022e-19     # Electron charge [C]\n",
    "L = 5.2918e-11     # Bohr radius [m]\n",
    "N = 1000\n",
    "h = L/N\n",
    "\n",
    "# New potential function (non zero, now it is a function of x)\n",
    "VO = 260*e\n",
    "def V(x):\n",
    "    return VO*(x/L)*(x/L-1)\n",
    "\n",
    "# New function to solve TISE, outputs an array with energy eigenvalues and eigen functions\n",
    "def f(r,x,E):\n",
    "    psi = r[0]\n",
    "    phi = r[1]\n",
    "    fpsi = phi\n",
    "    fphi = (2*m/hbar**2)*(V(x)-E)*psi\n",
    "    return array([fpsi,fphi],float)\n",
    "\n",
    "# Calculate the wavefunction for a particular energy, again utilizing 4th order runge-kutta method\n",
    "def solve(E):\n",
    "    psi = 0.0\n",
    "    phi = 1.0\n",
    "    r = array([psi,phi],float)\n",
    "\n",
    "    for x in arange(0,L,h):\n",
    "        k1 = h*f(r,x,E)\n",
    "        k2 = h*f(r+0.5*k1,x+0.5*h,E)\n",
    "        k3 = h*f(r+0.5*k2,x+0.5*h,E)\n",
    "        k4 = h*f(r+k3,x+h,E)\n",
    "        r += (k1+2*k2+2*k3+k4)/6\n",
    "\n",
    "    return r[0]\n",
    "\n",
    "# Main program to find the energy using the secant method\n",
    "E1 = 0.0\n",
    "E2 = e\n",
    "psi2 = solve(E1)\n",
    "\n",
    "target = e/1000\n",
    "while abs(E1-E2)>target:\n",
    "    psi1,psi2 = psi2,solve(E2)\n",
    "    E1,E2 = E2,E2-psi2*(E2-E1)/(psi2-psi1)\n",
    "\n",
    "print(\"E (ground state) =\",E2/e,\"eV.\")"
   ]
  },
  {
   "cell_type": "markdown",
   "id": "d925ee5c",
   "metadata": {},
   "source": [
    "c) Above and in class, we've dealt with the time-independent version of Schrödinger's equation. Now, we'll introduce what's called the Crank-Nicolson method to solve the full time-dependent Schrödinger equation and hence develop a picture of how a wavefunction evolves over time.\n",
    "\n",
    "For simplicity, let's stick with one dimension and put our particle in a box with impenetrable walls. We only have to solve the equation in a finite-sized space, and the box forces the wavefunction to be zero at the walls. We'll put these walls at $x = 0$ and $x = L.$\n",
    "\n",
    "Below is a cell for the tridiagonal version of Gaussian elimination that we'll be using in our primary code."
   ]
  },
  {
   "cell_type": "code",
   "execution_count": 9,
   "id": "93b10a86",
   "metadata": {},
   "outputs": [],
   "source": [
    "from __future__ import division, print_function\n",
    "from numpy import copy\n",
    "\n",
    "# Tridiagonal version of Gaussian elimination\n",
    "def banded(Aa,va,up,down):\n",
    "\n",
    "    # Copy the inputs and determine the size of system\n",
    "    A = copy(Aa)\n",
    "    v = copy(va)\n",
    "    N = len(v)\n",
    "\n",
    "    # Gaussian elimination\n",
    "    for m in range(N):\n",
    "\n",
    "        # Normalization factor\n",
    "        div = A[up,m]\n",
    "\n",
    "        # Update the vector first\n",
    "        v[m] /= div\n",
    "        for k in range(1,down+1):\n",
    "            if m+k<N:\n",
    "                v[m+k] -= A[up+k,m]*v[m]\n",
    "\n",
    "        # Normalize the pivot row of A and subtract from lower ones\n",
    "        for i in range(up):\n",
    "            j = m + up - i\n",
    "            if j<N:\n",
    "                A[i,j] /= div\n",
    "                for k in range(1,down+1):\n",
    "                    A[i+k,j] -= A[up+k,m]*A[i,j]\n",
    "\n",
    "    # Back substitution\n",
    "    for m in range(N-2,-1,-1):\n",
    "        for i in range(up):\n",
    "            j = m + up - i\n",
    "            if j<N:\n",
    "                v[m] -= A[i,j]*v[j]\n",
    "\n",
    "    return v"
   ]
  },
  {
   "cell_type": "markdown",
   "id": "3d2e9d56",
   "metadata": {},
   "source": [
    "d) We can get the Crank-Nicolson equation for the Schrödinger equation by 1) replacing the second derivative of the Schrödinger equation with a finite difference, applying Euler's method, and 2) doing this again but in reverse. Taking the average of the two resulting equations, we get the Crank-Nicolson equation for the Schrödinger equation.\n",
    "\n",
    "$$\\psi(x, t+h)-h\\frac{i\\hbar}{4ma^{^{2}}}[\\psi(x+a, t+h)+\\psi(x-a, t+h)-2\\psi(x, t+h)]=\\psi(x,t)+h\\frac{i\\hbar}{4ma^{^{2}}}[\\psi(x+a, t)+\\psi(x-a, t)-2\\psi(x,t)]$$\n",
    "\n",
    "This gives us a set of simultaneous equations, one for each grid point ($a, 2a, 3a$, and so forth). Then, the Crank-Nicolson equations can be written in the form $$\\mathbf{A}\\psi(t+h)=\\mathbf{B}\\psi(t)$$\n",
    "\n",
    "where $$\\mathbf{A}=\\begin{pmatrix}\n",
    " a_{1}  &  a_{2}  &  \\\\ \n",
    " a_{2}  &  a_{1}  &  a_{2}  \\\\ \n",
    " &  a_{2}  &  a_{1}  &  a_{2}  &  &  \\\\ \n",
    " &  &  a_{2}  &  a_{1} \\\\ \n",
    " &  &  &  & \\ddots  \n",
    "\\end{pmatrix}$$ and $$\\mathbf{B}=\\begin{pmatrix}\n",
    " b_{1}  &  b_{2}  &  \\\\ \n",
    " b_{2}  &  b_{1}  &  b_{2}  \\\\ \n",
    " &  b_{2}  &  b_{1}  &  b_{2}  &  &  \\\\ \n",
    " &  &  b_{2}  &  b_{1} \\\\ \n",
    " &  &  &  & \\ddots  \n",
    "\\end{pmatrix}.$$ with $$a_{1}=1+h\\frac{i\\hbar}{2ma^{2}},$$\n",
    "$$a_{2}=-h\\frac{i\\hbar}{4ma^{2}},$$\n",
    "$$b_{1}=1-h\\frac{i\\hbar}{2ma^{2}},$$ and\n",
    "$$b_{2}=h\\frac{i\\hbar}{4ma^{2}}.$$\n",
    "\n",
    "The equation $\\mathbf{A}\\psi(t+h)=\\mathbf{B}\\psi(t)$ has precisely the form $\\mathbf{A}\\mathbf{x}=\\boldsymbol{v}$.\n",
    "\n",
    "Now, let's consider an electron in a box of length $L=10^{-8}$m. Let's set the wavefunction of the electron at $t=0$ to have the form:$$\\psi(x,0)=\\exp[{-\\frac{(x-x_{0})^{2}}{2\\sigma^{2}}}]e^{i \\kappa x},$$ where $$x_{0}=\\frac{L}{2},$$ $$\\sigma = 1 \\times 10^{-10}m,$$ and $$\\kappa = 5 \\times 10^{10}m^{-1}.$$\n",
    "\n",
    "Finally, we'll perform a single step of the Crank-Nicolson method for this electron, calculating the values of the wavefunction $\\psi(t)$, given the initial wavefunction above and using $ N = 1000 $ spatial slices with $ a = L/N.$"
   ]
  },
  {
   "cell_type": "code",
   "execution_count": 10,
   "id": "7c5ba9cf",
   "metadata": {},
   "outputs": [
    {
     "name": "stderr",
     "output_type": "stream",
     "text": [
      "/opt/homebrew/Caskroom/miniforge/base/lib/python3.9/site-packages/matplotlib/cbook/__init__.py:1298: ComplexWarning: Casting complex values to real discards the imaginary part\n",
      "  return np.asarray(x, float)\n"
     ]
    },
    {
     "data": {
      "image/png": "[encoded data removed]",
      "text/plain": [
       "<Figure size 432x288 with 1 Axes>"
      ]
     },
     "metadata": {
      "needs_background": "light"
     },
     "output_type": "display_data"
    }
   ],
   "source": [
    "from __future__ import division, print_function\n",
    "from os import sys\n",
    "sys.path.append('cpresources')\n",
    "from pylab import *\n",
    "from numpy import *\n",
    "import matplotlib.pyplot as plt\n",
    "\n",
    "# Constants\n",
    "h = 1e-18*10\n",
    "hbar = 1.0546e-36\n",
    "L = 1e-8\n",
    "M = 9.109e-31\n",
    "N = 1000 # Grid slices\n",
    "\n",
    "a = L/N # Grid points\n",
    "\n",
    "# Coefficients\n",
    "a1 = 1 + h*hbar/2/M/a**2*1j\n",
    "a2 = -h*hbar*1j/4/M/a**2\n",
    "b1 =  1 - h*hbar/2/M/a**2*1j\n",
    "b2 =  h*hbar*1j/4/M/a**2\n",
    "\n",
    "# Initializing values for the wavefunction\n",
    "ksi = zeros(N+1,complex)\n",
    "\n",
    "def ksi0(x):\n",
    "    x0 = L/2\n",
    "    sigma = 1e-10\n",
    "    k = 5e10\n",
    "    return exp(-(x-x0)**2/2/sigma**2)*exp(1j*k*x)\n",
    "\n",
    "x = linspace(0,L,N+1)\n",
    "ksi[:] = ksi0(x)\n",
    "ksi[[0,N]]=0\n",
    "\n",
    "A = empty((3,N),complex)\n",
    "\n",
    "A[0,:] = a2\n",
    "A[1,:] = a1\n",
    "A[2:,] = a2\n",
    "\n",
    "# Solving for values of the wavefunction\n",
    "for i in range(100):\n",
    "    v = b1*ksi[1:N] + b2*(ksi[2:N+1] + ksi[0:N-1])\n",
    "    ksi[1:N] = banded(A,v,1,1)\n",
    "\n",
    "plot(ksi, color=\"blue\")\n",
    "ax = plt.gca()\n",
    "ax.set_facecolor(\"black\")\n",
    "plt.xlim(400, 600)\n",
    "plt.ylim(-1.5, 1.5)\n",
    "title(\"Wave Function\")\n",
    "xlabel(\"Position\")\n",
    "ylabel(\"Probability Amplitude\")\n",
    "\n",
    "Ap = zeros((N-1,N-1),complex)\n",
    "for i in range(N-2):\n",
    "    Ap[i,i] = a2\n",
    "    Ap[i+1,i] = a1 # Bottom\n",
    "    Ap[i,i+1] = a1 # Right\n",
    "Ap[N-2,N-2] = a2"
   ]
  },
  {
   "cell_type": "code",
   "execution_count": 11,
   "id": "707f806d",
   "metadata": {},
   "outputs": [
    {
     "data": {
      "text/plain": [
       "Text(0, 0.5, 'Probability Density')"
      ]
     },
     "execution_count": 11,
     "metadata": {},
     "output_type": "execute_result"
    },
    {
     "data": {
      "image/png": "[encoded data removed]",
      "text/plain": [
       "<Figure size 432x288 with 1 Axes>"
      ]
     },
     "metadata": {
      "needs_background": "light"
     },
     "output_type": "display_data"
    }
   ],
   "source": [
    "import matplotlib.pyplot as plt\n",
    "\n",
    "# Calculating probability density from amplitude above\n",
    "cj_values = conj(ksi)\n",
    "density_values = cj_values*ksi\n",
    "magnitude_ksi = abs(density_values)\n",
    "magnitude_ksi_2 = magnitude_ksi*magnitude_ksi\n",
    "plot(magnitude_ksi_2, color=\"green\")\n",
    "ax = plt.gca()\n",
    "ax.set_facecolor(\"black\")\n",
    "plt.xlim(400, 600)\n",
    "title(\"Wave Function (Squared)\")\n",
    "xlabel(\"Position\")\n",
    "ylabel(\"Probability Density\")"
   ]
  },
  {
   "cell_type": "markdown",
   "id": "1a06acea",
   "metadata": {},
   "source": [
    "## Part II: Surface Plot of Particle in 1D Box "
   ]
  },
  {
   "cell_type": "code",
   "execution_count": 12,
   "id": "14aef459",
   "metadata": {},
   "outputs": [
    {
     "name": "stdout",
     "output_type": "stream",
     "text": [
      "n = 1  gives E =  134.28637170133268 eV\n",
      "n = 2  gives E =  537.1454868053307 eV\n",
      "n = 3  gives E =  1208.5773453119941 eV\n",
      "Ground state energy =  134.2863717012906 eV\n",
      "Exited state 1 energy =  537.1454867761507 eV\n",
      "Exited state 2 energy =  1208.5773455532917 eV\n"
     ]
    }
   ],
   "source": [
    "# First: Find Ground State \n",
    "from numpy import sin, linspace, zeros, exp, cos, array, arange, pi\n",
    "from pylab import plot, xlabel, ylabel, show, legend\n",
    "import matplotlib.pyplot as plt\n",
    "from matplotlib import cm\n",
    "from matplotlib.ticker import LinearLocator\n",
    "import numpy as np\n",
    "\n",
    "\n",
    "# constants \n",
    "m = 9.1094e-31                 # mass of the electron\n",
    "hbar = 1.0546e-34              # Planck constant / 2 pi\n",
    "e = 1.6022e-19                 # electron charge\n",
    "L = 5.2918e-11                 # Bohr radius\n",
    "\n",
    "N = 1000                       # number of steps\n",
    "h = L/N                        # step size\n",
    "target = 1e-4\n",
    "\n",
    "\n",
    "# Potential function\n",
    "V0 = 0*e\n",
    "def V(x):\n",
    "    return V0*(x/L)*(x/L - 1)\n",
    "\n",
    "# Function that returns array for dpsi/dx and dphi/dx\n",
    "def f(r,x,E):\n",
    "    psi = r[0]\n",
    "    phi = r[1]\n",
    "    fpsi = phi\n",
    "    fphi = (2*m/hbar**2)*(V(x)-E)*psi\n",
    "    return array([fpsi, fphi], float)\n",
    "\n",
    "# Calculate the wavefunction for a particular energy\n",
    "def solve(E):\n",
    "    psi = 0.0\n",
    "    phi = 1.0\n",
    "    r = array([psi, phi], float)\n",
    "    for x in arange(0,L,h):\n",
    "        k1 = h*f(r, x, E)                   \n",
    "        k2 = h*f(r + k1/2, x + h/2, E)\n",
    "        k3 = h*f(r + k2/2, x + h/2, E)\n",
    "        k4 = h*f(r + k3, x + h, E)       \n",
    "        r += 1/6*(k1 + 2*k2 + 2*k3 + k4)\n",
    "    return r[0]\n",
    "\n",
    "\n",
    "def plotWavefunction(E):\n",
    "    r = array([0, e], float)\n",
    "    psiList = []\n",
    "    for x in arange(0,L,h):\n",
    "        psiList.append(r[0])\n",
    "        k1 = h*f(r, x, E)                   \n",
    "        k2 = h*f(r + k1/2, x + h/2, E)\n",
    "        k3 = h*f(r + k2/2, x + h/2, E)\n",
    "        k4 = h*f(r + k3, x + h, E)       \n",
    "        r += 1/6*(k1 + 2*k2 + 2*k3 + k4)\n",
    "    return psiList\n",
    "\n",
    "\n",
    "# Find the Ground State, First and Second Excited States\n",
    "\n",
    "for n in [1,2,3]:\n",
    "    print(\"n =\",n,\" gives E = \", n**2*pi**2*hbar**2/(2*m*L**2*e), \"eV\")\n",
    "\n",
    "\n",
    "#Need to find energy s.t. wavefunction is zero at x=L, so \n",
    "# Use Newton's method (secant version) to solve psi(E)=0 for E\n",
    "E1 = 0\n",
    "E2 = 2e-17\n",
    "p1, p2 = solve(E1), solve(E2)\n",
    "\n",
    "while abs(E2-E1)>e/1000:\n",
    "    E1, E2 = E2, E2 - p2*(E2-E1)/(p2 - p1)\n",
    "    p1, p2 = solve(E1), solve(E2)\n",
    "    \n",
    "Eground = E2\n",
    "print(\"Ground state energy = \", Eground/e, \"eV\")\n",
    "\n",
    "#Need to find energy s.t. wavefunction is zero at x=L, so \n",
    "# Use Newton's method (secant version) to solve psi(E)=0 for E\n",
    "\n",
    "E1 = 400*e\n",
    "E2 = 500*e\n",
    "p1, p2 = solve(E1), solve(E2)\n",
    "while abs(E2-E1)>e/1000:\n",
    "    E1, E2 = E2, E2 - p2*(E2-E1)/(p2 - p1)\n",
    "    p1, p2 = solve(E1), solve(E2)\n",
    "Ex1 = E2\n",
    "print(\"Exited state 1 energy = \", E2/e, \"eV\")\n",
    "    \n",
    "E1 = 1000*e\n",
    "E2 = 1100*e\n",
    "p1, p2 = solve(E1), solve(E2)\n",
    "while abs(E2-E1)>e/1000:\n",
    "    E1, E2 = E2, E2 - p2*(E2-E1)/(p2 - p1)\n",
    "    p1, p2 = solve(E1), solve(E2)\n",
    "Ex2 = E2\n",
    "print(\"Exited state 2 energy = \", E2/e, \"eV\")"
   ]
  },
  {
   "cell_type": "code",
   "execution_count": 13,
   "id": "06cfb8c7",
   "metadata": {},
   "outputs": [],
   "source": [
    "# First: Calculate Dimentions of Wave Functions\n",
    "from numpy import shape\n",
    "\n",
    "def graphWF(Estate):\n",
    "    fig, ax = plt.subplots(subplot_kw={\"projection\": \"3d\"})\n",
    "\n",
    "    # Make data\n",
    "    wfarray = zeros((1000,1000))\n",
    "    wfArray = array(plotWavefunction(Estate))\n",
    "    wfarray[:,:] += wfArray \n",
    "    \n",
    "    print(\"shape of wf data: \",shape(wfArray))\n",
    "\n",
    "    bestX = zeros((1000,1000))\n",
    "    bestY = zeros((1000,1000))\n",
    "\n",
    "    storedValues = arange(0,L,h)\n",
    "    print(\"this is stored values\",shape(storedValues))\n",
    "\n",
    "    for n in range(1000):\n",
    "        bestX[n,:] += storedValues\n",
    "        bestY[n,:] += storedValues - n*L\n",
    "\n",
    "\n",
    "    # Plot the surface.\n",
    "    surf = ax.plot_surface(bestX, bestY, wfarray, cmap=cm.coolwarm,\n",
    "                           linewidth=0, antialiased=False)\n",
    "\n",
    "    print(bestX)\n",
    "    print(bestY)\n",
    "    print(wfarray)\n",
    "\n",
    "    # Customize the z axis.\n",
    "    #ax.set_zlim(-3e-30, 3e-30)\n",
    "    ax.zaxis.set_major_locator(LinearLocator(10))\n",
    "    # A StrMethodFormatter is used automatically\n",
    "    #ax.zaxis.set_major_formatter('{x:.02f}')\n",
    "\n",
    "    # Add a color bar which maps values to colors.\n",
    "    fig.colorbar(surf, shrink=0.5, aspect=5, location = 'left')\n",
    "\n",
    "    plt.show()"
   ]
  },
  {
   "cell_type": "code",
   "execution_count": 14,
   "id": "78a6a8c8",
   "metadata": {
    "scrolled": true
   },
   "outputs": [
    {
     "name": "stdout",
     "output_type": "stream",
     "text": [
      "shape of wf data:  (1000,)\n",
      "this is stored values (1000,)\n",
      "[[0.0000000e+00 5.2918000e-14 1.0583600e-13 ... 5.2759246e-11\n",
      "  5.2812164e-11 5.2865082e-11]\n",
      " [0.0000000e+00 5.2918000e-14 1.0583600e-13 ... 5.2759246e-11\n",
      "  5.2812164e-11 5.2865082e-11]\n",
      " [0.0000000e+00 5.2918000e-14 1.0583600e-13 ... 5.2759246e-11\n",
      "  5.2812164e-11 5.2865082e-11]\n",
      " ...\n",
      " [0.0000000e+00 5.2918000e-14 1.0583600e-13 ... 5.2759246e-11\n",
      "  5.2812164e-11 5.2865082e-11]\n",
      " [0.0000000e+00 5.2918000e-14 1.0583600e-13 ... 5.2759246e-11\n",
      "  5.2812164e-11 5.2865082e-11]\n",
      " [0.0000000e+00 5.2918000e-14 1.0583600e-13 ... 5.2759246e-11\n",
      "  5.2812164e-11 5.2865082e-11]]\n",
      "[[ 0.00000000e+00  5.29180000e-14  1.05836000e-13 ...  5.27592460e-11\n",
      "   5.28121640e-11  5.28650820e-11]\n",
      " [-5.29180000e-11 -5.28650820e-11 -5.28121640e-11 ... -1.58754000e-13\n",
      "  -1.05836000e-13 -5.29180000e-14]\n",
      " [-1.05836000e-10 -1.05783082e-10 -1.05730164e-10 ... -5.30767540e-11\n",
      "  -5.30238360e-11 -5.29709180e-11]\n",
      " ...\n",
      " [-5.27592460e-08 -5.27591931e-08 -5.27591402e-08 ... -5.27064868e-08\n",
      "  -5.27064338e-08 -5.27063809e-08]\n",
      " [-5.28121640e-08 -5.28121111e-08 -5.28120582e-08 ... -5.27594048e-08\n",
      "  -5.27593518e-08 -5.27592989e-08]\n",
      " [-5.28650820e-08 -5.28650291e-08 -5.28649762e-08 ... -5.28123228e-08\n",
      "  -5.28122698e-08 -5.28122169e-08]]\n",
      "[[0.00000000e+00 8.47839644e-33 1.69560398e-32 ... 2.54321767e-32\n",
      "  1.69560395e-32 8.47839615e-33]\n",
      " [0.00000000e+00 8.47839644e-33 1.69560398e-32 ... 2.54321767e-32\n",
      "  1.69560395e-32 8.47839615e-33]\n",
      " [0.00000000e+00 8.47839644e-33 1.69560398e-32 ... 2.54321767e-32\n",
      "  1.69560395e-32 8.47839615e-33]\n",
      " ...\n",
      " [0.00000000e+00 8.47839644e-33 1.69560398e-32 ... 2.54321767e-32\n",
      "  1.69560395e-32 8.47839615e-33]\n",
      " [0.00000000e+00 8.47839644e-33 1.69560398e-32 ... 2.54321767e-32\n",
      "  1.69560395e-32 8.47839615e-33]\n",
      " [0.00000000e+00 8.47839644e-33 1.69560398e-32 ... 2.54321767e-32\n",
      "  1.69560395e-32 8.47839615e-33]]\n"
     ]
    },
    {
     "data": {
      "image/png": "[encoded data removed]",
      "text/plain": [
       "<Figure size 432x288 with 2 Axes>"
      ]
     },
     "metadata": {
      "needs_background": "light"
     },
     "output_type": "display_data"
    }
   ],
   "source": [
    "Estate = Ex2   # either Eground, Ex1, or Ex2 \n",
    "\n",
    "graphWF(Estate)"
   ]
  }
 ],
 "metadata": {
  "kernelspec": {
   "display_name": "Python 3 (ipykernel)",
   "language": "python",
   "name": "python3"
  },
  "language_info": {
   "codemirror_mode": {
    "name": "ipython",
    "version": 3
   },
   "file_extension": ".py",
   "mimetype": "text/x-python",
   "name": "python",
   "nbconvert_exporter": "python",
   "pygments_lexer": "ipython3",
   "version": "3.9.13"
  }
 },
 "nbformat": 4,
 "nbformat_minor": 5
}
